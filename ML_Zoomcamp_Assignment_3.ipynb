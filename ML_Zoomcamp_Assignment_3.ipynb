{
  "nbformat": 4,
  "nbformat_minor": 0,
  "metadata": {
    "colab": {
      "provenance": [],
      "authorship_tag": "ABX9TyN8+rt1SpUFEKsqDGqssWwI",
      "include_colab_link": true
    },
    "kernelspec": {
      "name": "python3",
      "display_name": "Python 3"
    },
    "language_info": {
      "name": "python"
    }
  },
  "cells": [
    {
      "cell_type": "markdown",
      "metadata": {
        "id": "view-in-github",
        "colab_type": "text"
      },
      "source": [
        "<a href=\"https://colab.research.google.com/github/utyabia/1-notebook/blob/main/ML_Zoomcamp_Assignment_3.ipynb\" target=\"_parent\"><img src=\"https://colab.research.google.com/assets/colab-badge.svg\" alt=\"Open In Colab\"/></a>"
      ]
    },
    {
      "cell_type": "code",
      "execution_count": 1,
      "metadata": {
        "colab": {
          "base_uri": "https://localhost:8080/"
        },
        "id": "Bl-Pzi2xuaM8",
        "outputId": "b61efc35-0a1e-4c2c-e966-81abf506d053"
      },
      "outputs": [
        {
          "output_type": "stream",
          "name": "stdout",
          "text": [
            "Missing values before processing:\n",
            "lead_source                 128\n",
            "industry                    134\n",
            "number_of_courses_viewed      0\n",
            "annual_income               181\n",
            "employment_status           100\n",
            "location                     63\n",
            "interaction_count             0\n",
            "lead_score                    0\n",
            "converted                     0\n",
            "dtype: int64\n",
            "\n",
            "Missing values after processing:\n",
            "lead_source                 0\n",
            "industry                    0\n",
            "number_of_courses_viewed    0\n",
            "annual_income               0\n",
            "employment_status           0\n",
            "location                    0\n",
            "interaction_count           0\n",
            "lead_score                  0\n",
            "converted                   0\n",
            "dtype: int64\n"
          ]
        }
      ],
      "source": [
        "import pandas as pd\n",
        "import numpy as np\n",
        "from sklearn.model_selection import train_test_split\n",
        "from sklearn.linear_model import LogisticRegression\n",
        "from sklearn.metrics import accuracy_score\n",
        "from sklearn.preprocessing import OneHotEncoder\n",
        "from sklearn.feature_selection import mutual_info_classif\n",
        "\n",
        "# Load the data\n",
        "df = pd.read_csv('/content/course_lead_scoring.csv')\n",
        "\n",
        "# Check for missing values\n",
        "print(\"Missing values before processing:\")\n",
        "print(df.isnull().sum())\n",
        "\n",
        "# Handle missing values\n",
        "categorical_cols = ['lead_source', 'industry', 'employment_status', 'location']\n",
        "numerical_cols = ['number_of_courses_viewed', 'annual_income', 'interaction_count', 'lead_score']\n",
        "\n",
        "# Fill categorical with 'NA', numerical with 0.0\n",
        "for col in categorical_cols:\n",
        "    df[col] = df[col].fillna('NA')\n",
        "\n",
        "for col in numerical_cols:\n",
        "    df[col] = df[col].fillna(0.0)\n",
        "\n",
        "print(\"\\nMissing values after processing:\")\n",
        "print(df.isnull().sum())"
      ]
    },
    {
      "cell_type": "code",
      "source": [
        "# Question 1\n",
        "industry_mode = df['industry'].mode()[0]\n",
        "print(f\"\\nQuestion 1 - Most frequent industry: {industry_mode}\")"
      ],
      "metadata": {
        "colab": {
          "base_uri": "https://localhost:8080/"
        },
        "id": "Wm5mFoIFumY2",
        "outputId": "e2e822ff-af0c-4baf-e0e5-519b3793f88c"
      },
      "execution_count": 2,
      "outputs": [
        {
          "output_type": "stream",
          "name": "stdout",
          "text": [
            "\n",
            "Question 1 - Most frequent industry: retail\n"
          ]
        }
      ]
    },
    {
      "cell_type": "code",
      "source": [
        "# Question 2\n",
        "correlation_matrix = df[numerical_cols].corr()\n",
        "print(\"\\nQuestion 2 - Correlation matrix:\")\n",
        "print(correlation_matrix)\n",
        "\n",
        "# Find the pair with highest correlation (excluding diagonal)\n",
        "corr_pairs = []\n",
        "for i in range(len(numerical_cols)):\n",
        "    for j in range(i+1, len(numerical_cols)):\n",
        "        corr_val = correlation_matrix.iloc[i, j]\n",
        "        corr_pairs.append({\n",
        "            'features': f\"{numerical_cols[i]} and {numerical_cols[j]}\",\n",
        "            'correlation': corr_val\n",
        "        })\n",
        "\n",
        "# Sort by absolute correlation\n",
        "corr_pairs_sorted = sorted(corr_pairs, key=lambda x: abs(x['correlation']), reverse=True)\n",
        "print(f\"\\nTop correlated pair: {corr_pairs_sorted[0]}\")"
      ],
      "metadata": {
        "colab": {
          "base_uri": "https://localhost:8080/"
        },
        "id": "vX2mFRjuuucx",
        "outputId": "6a92e492-bcaf-45f9-8d0e-e3fbf5ab52e0"
      },
      "execution_count": 3,
      "outputs": [
        {
          "output_type": "stream",
          "name": "stdout",
          "text": [
            "\n",
            "Question 2 - Correlation matrix:\n",
            "                          number_of_courses_viewed  annual_income  \\\n",
            "number_of_courses_viewed                  1.000000       0.009770   \n",
            "annual_income                             0.009770       1.000000   \n",
            "interaction_count                        -0.023565       0.027036   \n",
            "lead_score                               -0.004879       0.015610   \n",
            "\n",
            "                          interaction_count  lead_score  \n",
            "number_of_courses_viewed          -0.023565   -0.004879  \n",
            "annual_income                      0.027036    0.015610  \n",
            "interaction_count                  1.000000    0.009888  \n",
            "lead_score                         0.009888    1.000000  \n",
            "\n",
            "Top correlated pair: {'features': 'annual_income and interaction_count', 'correlation': np.float64(0.02703647240481443)}\n"
          ]
        }
      ]
    },
    {
      "cell_type": "code",
      "source": [
        "# Split the data\n",
        "X = df.drop('converted', axis=1)\n",
        "y = df['converted']\n",
        "\n",
        "X_train, X_temp, y_train, y_temp = train_test_split(X, y, test_size=0.4, random_state=42)\n",
        "X_val, X_test, y_val, y_test = train_test_split(X_temp, y_temp, test_size=0.5, random_state=42)\n",
        "\n",
        "print(f\"\\nData split:\")\n",
        "print(f\"Train: {X_train.shape[0]} samples\")\n",
        "print(f\"Validation: {X_val.shape[0]} samples\")\n",
        "print(f\"Test: {X_test.shape[0]} samples\")"
      ],
      "metadata": {
        "colab": {
          "base_uri": "https://localhost:8080/"
        },
        "id": "_t_CSsFhuxfj",
        "outputId": "9c8b6663-a8a7-4023-a432-0a5767802168"
      },
      "execution_count": 4,
      "outputs": [
        {
          "output_type": "stream",
          "name": "stdout",
          "text": [
            "\n",
            "Data split:\n",
            "Train: 877 samples\n",
            "Validation: 292 samples\n",
            "Test: 293 samples\n"
          ]
        }
      ]
    },
    {
      "cell_type": "code",
      "source": [
        "# Question 3 - Mutual Information\n",
        "# Prepare categorical features for MI calculation\n",
        "X_train_categorical = X_train[categorical_cols].copy()\n",
        "\n",
        "# Convert categorical variables to numerical for MI calculation\n",
        "for col in categorical_cols:\n",
        "    X_train_categorical[col] = X_train_categorical[col].astype('category').cat.codes\n",
        "\n",
        "mi_scores = mutual_info_classif(X_train_categorical, y_train, random_state=42)\n",
        "mi_results = dict(zip(categorical_cols, mi_scores))\n",
        "\n",
        "print(\"\\nQuestion 3 - Mutual Information Scores:\")\n",
        "for feature, score in mi_results.items():\n",
        "    print(f\"{feature}: {round(score, 2)}\")\n",
        "\n",
        "max_mi_feature = max(mi_results, key=mi_results.get)\n",
        "print(f\"Feature with highest MI: {max_mi_feature}\")"
      ],
      "metadata": {
        "colab": {
          "base_uri": "https://localhost:8080/"
        },
        "id": "B2iVDSCKu1Iy",
        "outputId": "bc249142-f0f4-4fae-98cc-4b153dd99185"
      },
      "execution_count": 5,
      "outputs": [
        {
          "output_type": "stream",
          "name": "stdout",
          "text": [
            "\n",
            "Question 3 - Mutual Information Scores:\n",
            "lead_source: 0.04\n",
            "industry: 0.03\n",
            "employment_status: 0.02\n",
            "location: 0.02\n",
            "Feature with highest MI: lead_source\n"
          ]
        }
      ]
    },
    {
      "cell_type": "code",
      "source": [
        "# Question 4 - Logistic Regression with all features\n",
        "# Prepare data for modeling with one-hot encoding\n",
        "X_train_encoded = pd.get_dummies(X_train, columns=categorical_cols)\n",
        "X_val_encoded = pd.get_dummies(X_val, columns=categorical_cols)\n",
        "\n",
        "# Ensure both train and val have same columns\n",
        "X_val_encoded = X_val_encoded.reindex(columns=X_train_encoded.columns, fill_value=0)\n",
        "\n",
        "# Train model\n",
        "model = LogisticRegression(solver='liblinear', C=1.0, max_iter=1000, random_state=42)\n",
        "model.fit(X_train_encoded, y_train)\n",
        "\n",
        "# Predict and calculate accuracy\n",
        "y_val_pred = model.predict(X_val_encoded)\n",
        "accuracy_q4 = accuracy_score(y_val, y_val_pred)\n",
        "\n",
        "print(f\"\\nQuestion 4 - Validation Accuracy: {round(accuracy_q4, 2)}\")"
      ],
      "metadata": {
        "colab": {
          "base_uri": "https://localhost:8080/"
        },
        "id": "DJbEJERku2r-",
        "outputId": "93c95da2-c5e4-47d6-85c7-4d14a7d180e7"
      },
      "execution_count": 6,
      "outputs": [
        {
          "output_type": "stream",
          "name": "stdout",
          "text": [
            "\n",
            "Question 4 - Validation Accuracy: 0.74\n"
          ]
        }
      ]
    },
    {
      "cell_type": "code",
      "source": [
        "# Question 5 - Feature Elimination\n",
        "base_accuracy = accuracy_q4\n",
        "feature_differences = {}\n",
        "\n",
        "features_to_test = ['industry', 'employment_status', 'lead_score']\n",
        "\n",
        "for feature in features_to_test:\n",
        "    # Create dataset without the feature\n",
        "    if feature == 'lead_score':  # numerical feature\n",
        "        X_train_reduced = X_train.drop(feature, axis=1)\n",
        "        X_val_reduced = X_val.drop(feature, axis=1)\n",
        "    else:  # categorical feature\n",
        "        X_train_reduced = X_train.drop(feature, axis=1)\n",
        "        X_val_reduced = X_val.drop(feature, axis=1)\n",
        "\n",
        "    # One-hot encode\n",
        "    X_train_reduced_encoded = pd.get_dummies(X_train_reduced, columns=[col for col in categorical_cols if col != feature])\n",
        "    X_val_reduced_encoded = pd.get_dummies(X_val_reduced, columns=[col for col in categorical_cols if col != feature])\n",
        "\n",
        "    # Align columns\n",
        "    X_val_reduced_encoded = X_val_reduced_encoded.reindex(columns=X_train_reduced_encoded.columns, fill_value=0)\n",
        "\n",
        "    # Train model\n",
        "    model_reduced = LogisticRegression(solver='liblinear', C=1.0, max_iter=1000, random_state=42)\n",
        "    model_reduced.fit(X_train_reduced_encoded, y_train)\n",
        "\n",
        "    # Calculate accuracy\n",
        "    y_val_pred_reduced = model_reduced.predict(X_val_reduced_encoded)\n",
        "    accuracy_reduced = accuracy_score(y_val, y_val_pred_reduced)\n",
        "\n",
        "    # Calculate difference\n",
        "    difference = base_accuracy - accuracy_reduced\n",
        "    feature_differences[feature] = abs(difference)\n",
        "\n",
        "    print(f\"Without {feature}: Accuracy = {accuracy_reduced:.4f}, Difference = {difference:.4f}\")\n",
        "\n",
        "smallest_diff_feature = min(feature_differences, key=feature_differences.get)\n",
        "print(f\"\\nQuestion 5 - Feature with smallest difference: {smallest_diff_feature}\")"
      ],
      "metadata": {
        "colab": {
          "base_uri": "https://localhost:8080/"
        },
        "id": "8LGgNmkrvNXN",
        "outputId": "4d1d0a2e-405f-4e0f-e5e5-cba53a33d83b"
      },
      "execution_count": 7,
      "outputs": [
        {
          "output_type": "stream",
          "name": "stdout",
          "text": [
            "Without industry: Accuracy = 0.7432, Difference = 0.0000\n",
            "Without employment_status: Accuracy = 0.7466, Difference = -0.0034\n",
            "Without lead_score: Accuracy = 0.7432, Difference = 0.0000\n",
            "\n",
            "Question 5 - Feature with smallest difference: industry\n"
          ]
        }
      ]
    },
    {
      "cell_type": "code",
      "source": [
        "# Question 6 - Regularization\n",
        "C_values = [0.01, 0.1, 1, 10, 100]\n",
        "best_accuracy = 0\n",
        "best_C = None\n",
        "\n",
        "for C in C_values:\n",
        "    model_reg = LogisticRegression(solver='liblinear', C=C, max_iter=1000, random_state=42)\n",
        "    model_reg.fit(X_train_encoded, y_train)\n",
        "\n",
        "    y_val_pred_reg = model_reg.predict(X_val_encoded)\n",
        "    accuracy_reg = accuracy_score(y_val, y_val_pred_reg)\n",
        "\n",
        "    print(f\"C = {C}: Accuracy = {round(accuracy_reg, 3)}\")\n",
        "\n",
        "    if accuracy_reg > best_accuracy:\n",
        "        best_accuracy = accuracy_reg\n",
        "        best_C = C\n",
        "\n",
        "print(f\"\\nQuestion 6 - Best C: {best_C}\")"
      ],
      "metadata": {
        "colab": {
          "base_uri": "https://localhost:8080/"
        },
        "id": "XSC9WvyDvTHN",
        "outputId": "61c1f9e4-b18b-4e56-b575-ea8c389576a9"
      },
      "execution_count": 9,
      "outputs": [
        {
          "output_type": "stream",
          "name": "stdout",
          "text": [
            "C = 0.01: Accuracy = 0.743\n",
            "C = 0.1: Accuracy = 0.743\n",
            "C = 1: Accuracy = 0.743\n",
            "C = 10: Accuracy = 0.743\n",
            "C = 100: Accuracy = 0.743\n",
            "\n",
            "Question 6 - Best C: 0.01\n"
          ]
        }
      ]
    }
  ]
}