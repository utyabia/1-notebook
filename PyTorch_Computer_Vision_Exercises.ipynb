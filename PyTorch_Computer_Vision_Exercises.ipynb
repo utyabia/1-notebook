{
  "nbformat": 4,
  "nbformat_minor": 0,
  "metadata": {
    "colab": {
      "provenance": [],
      "authorship_tag": "ABX9TyMUM7Z2kfyGBuzlgTfXfsZN",
      "include_colab_link": true
    },
    "kernelspec": {
      "name": "python3",
      "display_name": "Python 3"
    },
    "language_info": {
      "name": "python"
    }
  },
  "cells": [
    {
      "cell_type": "markdown",
      "metadata": {
        "id": "view-in-github",
        "colab_type": "text"
      },
      "source": [
        "<a href=\"https://colab.research.google.com/github/utyabia/1-notebook/blob/main/PyTorch_Computer_Vision_Exercises.ipynb\" target=\"_parent\"><img src=\"https://colab.research.google.com/assets/colab-badge.svg\" alt=\"Open In Colab\"/></a>"
      ]
    },
    {
      "cell_type": "markdown",
      "source": [
        "1. What are 3 areas in industry where computer vision is currently being used?"
      ],
      "metadata": {
        "id": "Ug6fy7I918M7"
      }
    },
    {
      "cell_type": "markdown",
      "source": [
        "Healthcare: Computer vision is used for diagnostic tools, such as identifying diseases from medical imaging (X-rays, MRIs, etc.).\n",
        "\n",
        "Retail: Computer vision is used for inventory management, product recommendations, and customer behavior analysis (e.g., cashier-less stores like Amazon Go).\n",
        "\n",
        "Automotive: Self-driving cars use computer vision for object detection, lane recognition, and navigation.\n",
        "\n"
      ],
      "metadata": {
        "id": "siSOW3pG2NJD"
      }
    },
    {
      "cell_type": "markdown",
      "source": [
        "2. Search \"what is overfitting in machine learning\" and write down a sentence about what you find."
      ],
      "metadata": {
        "id": "JUZU9PmK2O2y"
      }
    },
    {
      "cell_type": "markdown",
      "source": [
        "Overfitting occurs when a machine learning model learns the details and noise in the training data to the extent that it negatively impacts the performance of the model on new, unseen data."
      ],
      "metadata": {
        "id": "fnwI9IZS2R7z"
      }
    },
    {
      "cell_type": "markdown",
      "source": [
        "3. Search \"ways to prevent overfitting in machine learning\", write down 3 of the things you find and a sentence about each."
      ],
      "metadata": {
        "id": "y7X1fJiH2Usy"
      }
    },
    {
      "cell_type": "markdown",
      "source": [
        "Regularization (L1/L2): Adding a penalty term to the loss function can help prevent overfitting by discouraging overly complex models.\n",
        "\n",
        "Early Stopping: Monitoring the performance on a validation set and stopping training when performance begins to degrade helps prevent overfitting.\n",
        "\n",
        "Data Augmentation: Increasing the diversity of the training set by applying random transformations (rotations, flips, etc.) can help the model generalize better."
      ],
      "metadata": {
        "id": "bGsx7Iif2Xmj"
      }
    },
    {
      "cell_type": "markdown",
      "source": [
        "4. Spend 20-minutes reading and clicking through the CNN Explainer website.\n",
        "Upload your own example image using the \"upload\" button on the website and see what happens in each layer of a CNN as your image passes through it.\n"
      ],
      "metadata": {
        "id": "MRBanOiH2aDb"
      }
    },
    {
      "cell_type": "markdown",
      "source": [
        "5. Load the torchvision.datasets.MNIST() train and test datasets."
      ],
      "metadata": {
        "id": "qZe06rSo2kIL"
      }
    },
    {
      "cell_type": "code",
      "source": [
        "import torch\n",
        "from torchvision import datasets, transforms\n",
        "\n",
        "# Define a transform to normalize the data\n",
        "transform = transforms.Compose([transforms.ToTensor(), transforms.Normalize((0.5,), (0.5,))])\n",
        "\n",
        "# Load the MNIST dataset\n",
        "train_data = datasets.MNIST(root='./data', train=True, download=True, transform=transform)\n",
        "test_data = datasets.MNIST(root='./data', train=False, download=True, transform=transform)\n"
      ],
      "metadata": {
        "colab": {
          "base_uri": "https://localhost:8080/"
        },
        "id": "Fw0aNXae2k6k",
        "outputId": "922eafc3-2434-4718-d0d3-4805616df914"
      },
      "execution_count": 1,
      "outputs": [
        {
          "output_type": "stream",
          "name": "stderr",
          "text": [
            "100%|██████████| 9.91M/9.91M [00:00<00:00, 40.0MB/s]\n",
            "100%|██████████| 28.9k/28.9k [00:00<00:00, 991kB/s]\n",
            "100%|██████████| 1.65M/1.65M [00:00<00:00, 10.8MB/s]\n",
            "100%|██████████| 4.54k/4.54k [00:00<00:00, 7.95MB/s]\n"
          ]
        }
      ]
    },
    {
      "cell_type": "markdown",
      "source": [
        "6. Visualize at least 5 different samples of the MNIST training dataset."
      ],
      "metadata": {
        "id": "HQhBhUZ72pyd"
      }
    },
    {
      "cell_type": "code",
      "source": [
        "import matplotlib.pyplot as plt\n",
        "\n",
        "# Visualize 5 random samples from the MNIST dataset\n",
        "for i in range(5):\n",
        "    image, label = train_data[i]\n",
        "    plt.subplot(1, 5, i+1)\n",
        "    plt.imshow(image.squeeze(), cmap=\"gray\")\n",
        "    plt.title(f\"Label: {label}\")\n",
        "    plt.axis('off')\n",
        "plt.show()\n"
      ],
      "metadata": {
        "colab": {
          "base_uri": "https://localhost:8080/",
          "height": 144
        },
        "id": "CNsVeHGR2rMt",
        "outputId": "e2a78ddb-326f-4079-fdd4-516179b923a9"
      },
      "execution_count": 2,
      "outputs": [
        {
          "output_type": "display_data",
          "data": {
            "text/plain": [
              "<Figure size 640x480 with 5 Axes>"
            ],
            "image/png": "[encoded data removed]"
          },
          "metadata": {}
        }
      ]
    },
    {
      "cell_type": "markdown",
      "source": [
        "\n",
        "7. Turn the MNIST train and test datasets into dataloaders using torch.utils.data.DataLoader, set the batch_size=32."
      ],
      "metadata": {
        "id": "BRuqIfKK2wYj"
      }
    },
    {
      "cell_type": "code",
      "source": [
        "from torch.utils.data import DataLoader\n",
        "\n",
        "# Create DataLoader for train and test datasets\n",
        "train_loader = DataLoader(train_data, batch_size=32, shuffle=True)\n",
        "test_loader = DataLoader(test_data, batch_size=32, shuffle=False)\n"
      ],
      "metadata": {
        "id": "1eNM9PM22yz8"
      },
      "execution_count": 3,
      "outputs": []
    },
    {
      "cell_type": "markdown",
      "source": [
        "8. Recreate model_2 used in notebook 03 (the same model from the CNN Explainer website, also known as TinyVGG) capable of fitting on the MNIST dataset."
      ],
      "metadata": {
        "id": "fTry4Lyg21Tc"
      }
    },
    {
      "cell_type": "code",
      "source": [
        "import torch.nn as nn\n",
        "\n",
        "class TinyVGG(nn.Module):\n",
        "    def __init__(self):\n",
        "        super(TinyVGG, self).__init__()\n",
        "        self.conv1 = nn.Conv2d(1, 8, kernel_size=3, padding=1)\n",
        "        self.conv2 = nn.Conv2d(8, 16, kernel_size=3, padding=1)\n",
        "        self.fc1 = nn.Linear(16*7*7, 128)\n",
        "        self.fc2 = nn.Linear(128, 10)  # 10 classes for MNIST digits\n",
        "\n",
        "    def forward(self, x):\n",
        "        x = torch.relu(self.conv1(x))\n",
        "        x = torch.max_pool2d(x, 2)\n",
        "        x = torch.relu(self.conv2(x))\n",
        "        x = torch.max_pool2d(x, 2)\n",
        "        x = x.view(-1, 16*7*7)  # Flatten the tensor\n",
        "        x = torch.relu(self.fc1(x))\n",
        "        x = self.fc2(x)\n",
        "        return x\n",
        "\n",
        "# Instantiate the model\n",
        "model = TinyVGG()\n"
      ],
      "metadata": {
        "id": "XpBPWBt124_D"
      },
      "execution_count": 4,
      "outputs": []
    },
    {
      "cell_type": "markdown",
      "source": [
        "9. Train the model you built in exercise 8. for 5 epochs on CPU and GPU and see how long it takes on each."
      ],
      "metadata": {
        "id": "9hDKZlV626YU"
      }
    },
    {
      "cell_type": "code",
      "source": [
        "import time\n",
        "\n",
        "device = \"cuda\" if torch.cuda.is_available() else \"cpu\"\n",
        "model.to(device)\n",
        "\n",
        "# Define the loss function and optimizer\n",
        "criterion = nn.CrossEntropyLoss()\n",
        "optimizer = torch.optim.Adam(model.parameters(), lr=0.001)\n",
        "\n",
        "# Function to train the model for 5 epochs\n",
        "def train_model(model, train_loader, device):\n",
        "    model.train()\n",
        "    start_time = time.time()\n",
        "\n",
        "    for epoch in range(5):\n",
        "        running_loss = 0.0\n",
        "        for images, labels in train_loader:\n",
        "            images, labels = images.to(device), labels.to(device)\n",
        "\n",
        "            optimizer.zero_grad()\n",
        "\n",
        "            outputs = model(images)\n",
        "            loss = criterion(outputs, labels)\n",
        "            loss.backward()\n",
        "            optimizer.step()\n",
        "\n",
        "            running_loss += loss.item()\n",
        "\n",
        "        print(f\"Epoch [{epoch+1}/5], Loss: {running_loss/len(train_loader):.4f}\")\n",
        "\n",
        "    end_time = time.time()\n",
        "    print(f\"Training time: {end_time - start_time:.4f} seconds\")\n",
        "\n",
        "train_model(model, train_loader, device)\n"
      ],
      "metadata": {
        "colab": {
          "base_uri": "https://localhost:8080/"
        },
        "id": "6_aRhEV629p1",
        "outputId": "d8640808-11b7-4d15-af01-71101a1a22cb"
      },
      "execution_count": 5,
      "outputs": [
        {
          "output_type": "stream",
          "name": "stdout",
          "text": [
            "Epoch [1/5], Loss: 0.2055\n",
            "Epoch [2/5], Loss: 0.0589\n",
            "Epoch [3/5], Loss: 0.0425\n",
            "Epoch [4/5], Loss: 0.0318\n",
            "Epoch [5/5], Loss: 0.0247\n",
            "Training time: 185.1981 seconds\n"
          ]
        }
      ]
    },
    {
      "cell_type": "markdown",
      "source": [
        "10. Make predictions using your trained model and visualize at least 5 of them comparing the prediciton to the target label."
      ],
      "metadata": {
        "id": "-rug6WJU3B5T"
      }
    },
    {
      "cell_type": "code",
      "source": [
        "# Make predictions and visualize\n",
        "model.eval()\n",
        "images, labels = next(iter(test_loader))\n",
        "images, labels = images.to(device), labels.to(device)\n",
        "\n",
        "outputs = model(images)\n",
        "_, preds = torch.max(outputs, 1)\n",
        "\n",
        "# Plot the images along with their predictions and labels\n",
        "for i in range(5):\n",
        "    plt.imshow(images[i].cpu().squeeze(), cmap=\"gray\")\n",
        "    plt.title(f\"Pred: {preds[i].item()}, Truth: {labels[i].item()}\")\n",
        "    plt.axis('off')\n",
        "    plt.show()\n"
      ],
      "metadata": {
        "colab": {
          "base_uri": "https://localhost:8080/",
          "height": 1000
        },
        "id": "zZCRR6ZL3EdD",
        "outputId": "9e821493-b86c-4cb9-b335-7d4ea2145ce1"
      },
      "execution_count": 6,
      "outputs": [
        {
          "output_type": "display_data",
          "data": {
            "text/plain": [
              "<Figure size 640x480 with 1 Axes>"
            ],
            "image/png": "[encoded data removed]"
          },
          "metadata": {}
        },
        {
          "output_type": "display_data",
          "data": {
            "text/plain": [
              "<Figure size 640x480 with 1 Axes>"
            ],
            "image/png": "[encoded data removed]"
          },
          "metadata": {}
        },
        {
          "output_type": "display_data",
          "data": {
            "text/plain": [
              "<Figure size 640x480 with 1 Axes>"
            ],
            "image/png": "[encoded data removed]"
          },
          "metadata": {}
        },
        {
          "output_type": "display_data",
          "data": {
            "text/plain": [
              "<Figure size 640x480 with 1 Axes>"
            ],
            "image/png": "[encoded data removed]"
          },
          "metadata": {}
        },
        {
          "output_type": "display_data",
          "data": {
            "text/plain": [
              "<Figure size 640x480 with 1 Axes>"
            ],
            "image/png": "[encoded data removed]"
          },
          "metadata": {}
        }
      ]
    },
    {
      "cell_type": "markdown",
      "source": [
        "11. Plot a confusion matrix comparing your model's predictions to the truth labels."
      ],
      "metadata": {
        "id": "j1xXFr6w36Uk"
      }
    },
    {
      "cell_type": "code",
      "source": [
        "from sklearn.metrics import confusion_matrix\n",
        "import seaborn as sns\n",
        "\n",
        "# Get predictions\n",
        "model.eval()\n",
        "all_preds = []\n",
        "all_labels = []\n",
        "\n",
        "for images, labels in test_loader:\n",
        "    images, labels = images.to(device), labels.to(device)\n",
        "    outputs = model(images)\n",
        "    _, preds = torch.max(outputs, 1)\n",
        "    all_preds.extend(preds.cpu().numpy())\n",
        "    all_labels.extend(labels.cpu().numpy())\n",
        "\n",
        "# Compute confusion matrix\n",
        "cm = confusion_matrix(all_labels, all_preds)\n",
        "plt.figure(figsize=(10, 7))\n",
        "sns.heatmap(cm, annot=True, fmt='d', cmap=\"Blues\", xticklabels=list(range(10)), yticklabels=list(range(10)))\n",
        "plt.xlabel('Predicted')\n",
        "plt.ylabel('True')\n",
        "plt.title('Confusion Matrix')\n",
        "plt.show()\n"
      ],
      "metadata": {
        "colab": {
          "base_uri": "https://localhost:8080/",
          "height": 641
        },
        "id": "0iUvPeX-38iU",
        "outputId": "90954c30-6c85-4ea2-9acb-5bc3eb8a2383"
      },
      "execution_count": 7,
      "outputs": [
        {
          "output_type": "display_data",
          "data": {
            "text/plain": [
              "<Figure size 1000x700 with 2 Axes>"
            ],
            "image/png": "[encoded data removed]"
          },
          "metadata": {}
        }
      ]
    },
    {
      "cell_type": "markdown",
      "source": [
        "12. Create a random tensor of shape [1, 3, 64, 64] and pass it through a nn.Conv2d() layer with various hyperparameter settings (these can be any settings you choose), what do you notice if the kernel_size parameter goes up and down?"
      ],
      "metadata": {
        "id": "qNvGrNn93_IN"
      }
    },
    {
      "cell_type": "code",
      "source": [
        "# Create a random tensor of shape [1, 3, 64, 64]\n",
        "x = torch.randn(1, 3, 64, 64)\n",
        "\n",
        "# Define a Conv2d layer with varying hyperparameters\n",
        "conv_layer = nn.Conv2d(3, 16, kernel_size=3, stride=1, padding=1)  # Example settings\n",
        "output = conv_layer(x)\n",
        "\n",
        "print(\"Output shape after Conv2d:\", output.shape)\n",
        "\n",
        "# Try changing kernel_size and observe the effect\n",
        "conv_layer = nn.Conv2d(3, 16, kernel_size=5, stride=1, padding=2)\n",
        "output = conv_layer(x)\n",
        "\n",
        "print(\"Output shape after Conv2d with kernel_size=5:\", output.shape)\n"
      ],
      "metadata": {
        "colab": {
          "base_uri": "https://localhost:8080/"
        },
        "id": "WgSiFi5J4BOq",
        "outputId": "061cae2a-72f5-4021-df4f-96a4161e4d4f"
      },
      "execution_count": 8,
      "outputs": [
        {
          "output_type": "stream",
          "name": "stdout",
          "text": [
            "Output shape after Conv2d: torch.Size([1, 16, 64, 64])\n",
            "Output shape after Conv2d with kernel_size=5: torch.Size([1, 16, 64, 64])\n"
          ]
        }
      ]
    },
    {
      "cell_type": "markdown",
      "source": [
        "13. Use a model similar to the trained model_2 from notebook 03 to make predictions on the test torchvision.datasets.FashionMNIST dataset.\n",
        "Then plot some predictions where the model was wrong alongside what the label of the image should've been.\n",
        "After visualing these predictions do you think it's more of a modelling error or a data error?\n",
        "As in, could the model do better or are the labels of the data too close to each other (e.g. a \"Shirt\" label is too close to \"T-shirt/top\")?"
      ],
      "metadata": {
        "id": "ICL2zTTG4EdN"
      }
    },
    {
      "cell_type": "code",
      "source": [
        "from torchvision import datasets, transforms\n",
        "\n",
        "# Transform to normalize the images\n",
        "transform = transforms.Compose([\n",
        "    transforms.ToTensor(),\n",
        "    transforms.Normalize((0.5,), (0.5,))\n",
        "])\n",
        "\n",
        "# Load train and test datasets\n",
        "fashion_train = datasets.FashionMNIST(root=\"./data\", train=True, download=True, transform=transform)\n",
        "fashion_test = datasets.FashionMNIST(root=\"./data\", train=False, download=True, transform=transform)\n",
        "\n",
        "# Create DataLoaders\n",
        "from torch.utils.data import DataLoader\n",
        "\n",
        "train_loader = DataLoader(fashion_train, batch_size=32, shuffle=True)\n",
        "test_loader = DataLoader(fashion_test, batch_size=32, shuffle=False)\n"
      ],
      "metadata": {
        "colab": {
          "base_uri": "https://localhost:8080/"
        },
        "id": "lSslE8wQ4HpV",
        "outputId": "829ac246-2812-41a9-fb8d-7f68c682e4b0"
      },
      "execution_count": 9,
      "outputs": [
        {
          "output_type": "stream",
          "name": "stderr",
          "text": [
            "100%|██████████| 26.4M/26.4M [00:01<00:00, 16.7MB/s]\n",
            "100%|██████████| 29.5k/29.5k [00:00<00:00, 268kB/s]\n",
            "100%|██████████| 4.42M/4.42M [00:00<00:00, 4.96MB/s]\n",
            "100%|██████████| 5.15k/5.15k [00:00<00:00, 8.77MB/s]\n"
          ]
        }
      ]
    },
    {
      "cell_type": "code",
      "source": [
        "import torch\n",
        "import torch.nn as nn\n",
        "\n",
        "class TinyVGG(nn.Module):\n",
        "    def __init__(self):\n",
        "        super().__init__()\n",
        "        self.conv1 = nn.Conv2d(1, 8, kernel_size=3, padding=1)\n",
        "        self.conv2 = nn.Conv2d(8, 16, kernel_size=3, padding=1)\n",
        "        self.fc1 = nn.Linear(16 * 7 * 7, 128)\n",
        "        self.fc2 = nn.Linear(128, 10)\n",
        "\n",
        "    def forward(self, x):\n",
        "        x = torch.relu(self.conv1(x))\n",
        "        x = torch.max_pool2d(x, 2)\n",
        "        x = torch.relu(self.conv2(x))\n",
        "        x = torch.max_pool2d(x, 2)\n",
        "        x = x.view(-1, 16 * 7 * 7)\n",
        "        x = torch.relu(self.fc1(x))\n",
        "        return self.fc2(x)\n"
      ],
      "metadata": {
        "id": "38nrJ57p4UVc"
      },
      "execution_count": 10,
      "outputs": []
    },
    {
      "cell_type": "code",
      "source": [
        "import matplotlib.pyplot as plt\n",
        "\n",
        "# FashionMNIST class labels\n",
        "class_names = fashion_train.classes\n",
        "\n",
        "# Move model to device\n",
        "device = \"cuda\" if torch.cuda.is_available() else \"cpu\"\n",
        "model = TinyVGG().to(device)\n",
        "\n",
        "# (Optional) Load pre-trained model weights if available\n",
        "\n",
        "# Evaluate mode\n",
        "model.eval()\n",
        "\n",
        "# Find incorrect predictions\n",
        "wrong_preds = []\n",
        "\n",
        "with torch.no_grad():\n",
        "    for images, labels in test_loader:\n",
        "        images, labels = images.to(device), labels.to(device)\n",
        "        outputs = model(images)\n",
        "        preds = torch.argmax(outputs, dim=1)\n",
        "\n",
        "        for img, pred, label in zip(images, preds, labels):\n",
        "            if pred != label:\n",
        "                wrong_preds.append((img.cpu(), pred.item(), label.item()))\n",
        "            if len(wrong_preds) >= 5:\n",
        "                break\n",
        "        if len(wrong_preds) >= 5:\n",
        "            break\n",
        "\n",
        "# Plot 5 incorrect predictions\n",
        "for i, (img, pred, label) in enumerate(wrong_preds):\n",
        "    plt.subplot(1, 5, i + 1)\n",
        "    plt.imshow(img.squeeze(), cmap=\"gray\")\n",
        "    plt.title(f\"Pred: {class_names[pred]}\\nTrue: {class_names[label]}\")\n",
        "    plt.axis(\"off\")\n",
        "plt.tight_layout()\n",
        "plt.show()\n"
      ],
      "metadata": {
        "colab": {
          "base_uri": "https://localhost:8080/",
          "height": 190
        },
        "id": "YPG-9RCK4XLk",
        "outputId": "d8f20d20-1a47-4411-e0e7-ee638ac0bdc3"
      },
      "execution_count": 11,
      "outputs": [
        {
          "output_type": "display_data",
          "data": {
            "text/plain": [
              "<Figure size 640x480 with 5 Axes>"
            ],
            "image/png": "[encoded data removed]"
          },
          "metadata": {}
        }
      ]
    }
  ]
}