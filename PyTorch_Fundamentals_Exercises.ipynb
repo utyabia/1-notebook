{
  "nbformat": 4,
  "nbformat_minor": 0,
  "metadata": {
    "colab": {
      "provenance": [],
      "authorship_tag": "ABX9TyPLjHU82lRrj+ZecwJRe15f",
      "include_colab_link": true
    },
    "kernelspec": {
      "name": "python3",
      "display_name": "Python 3"
    },
    "language_info": {
      "name": "python"
    }
  },
  "cells": [
    {
      "cell_type": "markdown",
      "metadata": {
        "id": "view-in-github",
        "colab_type": "text"
      },
      "source": [
        "<a href=\"https://colab.research.google.com/github/utyabia/1-notebook/blob/main/PyTorch_Fundamentals_Exercises.ipynb\" target=\"_parent\"><img src=\"https://colab.research.google.com/assets/colab-badge.svg\" alt=\"Open In Colab\"/></a>"
      ]
    },
    {
      "cell_type": "markdown",
      "source": [
        "2. Create a random tensor with shape (7, 7)"
      ],
      "metadata": {
        "id": "yY5x1DafletK"
      }
    },
    {
      "cell_type": "code",
      "execution_count": 3,
      "metadata": {
        "id": "_5OG8CzKXnbO",
        "colab": {
          "base_uri": "https://localhost:8080/"
        },
        "outputId": "bcd5d762-e148-4675-cffe-aac629780230"
      },
      "outputs": [
        {
          "output_type": "stream",
          "name": "stdout",
          "text": [
            "tensor([[0.3218, 0.5026, 0.6148, 0.0543, 0.6533, 0.9448, 0.3586],\n",
            "        [0.7917, 0.0577, 0.7790, 0.5326, 0.6528, 0.6448, 0.9127],\n",
            "        [0.0657, 0.6765, 0.6364, 0.0324, 0.2456, 0.0576, 0.8672],\n",
            "        [0.4130, 0.4502, 0.4313, 0.5167, 0.1473, 0.3878, 0.5083],\n",
            "        [0.1002, 0.2132, 0.5607, 0.5983, 0.2617, 0.4717, 0.2544],\n",
            "        [0.4913, 0.0421, 0.3080, 0.7293, 0.1481, 0.9424, 0.9993],\n",
            "        [0.7319, 0.8452, 0.3141, 0.6806, 0.7916, 0.8001, 0.2392]])\n"
          ]
        }
      ],
      "source": [
        "import torch\n",
        "\n",
        "tensor_a = torch.rand(7, 7)\n",
        "print(tensor_a)\n"
      ]
    },
    {
      "cell_type": "markdown",
      "source": [
        "3. Perform a matrix multiplication on the tensor from 2 with another random tensor with shape (1, 7) (hint: you may have to transpose the second tensor)."
      ],
      "metadata": {
        "id": "BCglrhDJlptK"
      }
    },
    {
      "cell_type": "code",
      "source": [
        "tensor_b = torch.rand(1, 7)\n",
        "output_3 = torch.matmul(tensor_a, tensor_b.T)\n",
        "print(output_3)\n"
      ],
      "metadata": {
        "id": "Q1vXiBKuZK_R",
        "colab": {
          "base_uri": "https://localhost:8080/"
        },
        "outputId": "179ebda3-04b2-4acd-b039-afc912559f45"
      },
      "execution_count": 4,
      "outputs": [
        {
          "output_type": "stream",
          "name": "stdout",
          "text": [
            "tensor([[1.9260],\n",
            "        [2.2680],\n",
            "        [1.1314],\n",
            "        [1.4271],\n",
            "        [1.0943],\n",
            "        [1.7252],\n",
            "        [2.5592]])\n"
          ]
        }
      ]
    },
    {
      "cell_type": "markdown",
      "source": [
        "4. Set the random seed to 0 and do 2 & 3 over again."
      ],
      "metadata": {
        "id": "rPF9KtpSlsgK"
      }
    },
    {
      "cell_type": "code",
      "source": [
        "torch.manual_seed(0)\n",
        "\n",
        "tensor_a = torch.rand(7, 7)\n",
        "tensor_b = torch.rand(1, 7)\n",
        "output_4 = torch.matmul(tensor_a, tensor_b.T)\n",
        "\n",
        "print(output_4, output_4.shape)\n"
      ],
      "metadata": {
        "colab": {
          "base_uri": "https://localhost:8080/"
        },
        "id": "JHacVtP8kwzD",
        "outputId": "7196aeb9-a733-4fb3-db27-1ffb4e0888b4"
      },
      "execution_count": 5,
      "outputs": [
        {
          "output_type": "stream",
          "name": "stdout",
          "text": [
            "tensor([[1.8542],\n",
            "        [1.9611],\n",
            "        [2.2884],\n",
            "        [3.0481],\n",
            "        [1.7067],\n",
            "        [2.5290],\n",
            "        [1.7989]]) torch.Size([7, 1])\n"
          ]
        }
      ]
    },
    {
      "cell_type": "markdown",
      "source": [
        "5. Speaking of random seeds, we saw how to set it with torch.manual_seed() but is there a GPU equivalent? (hint: you'll need to look into the documentation for torch.cuda for this one)"
      ],
      "metadata": {
        "id": "e2qIjVpBlyHK"
      }
    },
    {
      "cell_type": "code",
      "source": [
        "torch.cuda.manual_seed(1234)\n"
      ],
      "metadata": {
        "id": "yUFPFg4Dk6dT"
      },
      "execution_count": 6,
      "outputs": []
    },
    {
      "cell_type": "markdown",
      "source": [
        "6. Create two random tensors of shape (2, 3) and send them both to the GPU (you'll need access to a GPU for this). Set torch.manual_seed(1234) when creating the tensors (this doesn't have to be the GPU random seed). The output should be something like:\n",
        "Device: cuda\n",
        "(tensor([[0.0290, 0.4019, 0.2598],\n",
        "         [0.3666, 0.0583, 0.7006]], device='cuda:0'),\n",
        " tensor([[0.0518, 0.4681, 0.6738],\n",
        "         [0.3315, 0.7837, 0.5631]], device='cuda:0'))"
      ],
      "metadata": {
        "id": "L9yTx0ROl3Dz"
      }
    },
    {
      "cell_type": "markdown",
      "source": [
        "7. Perform a matrix multiplication on the tensors you created in 6 (again, you may have to adjust the shapes of one of the tensors).\n",
        "The output should look like:\n",
        "\n",
        "(tensor([[0.3647, 0.4709],\n",
        "         [0.5184, 0.5617]], device='cuda:0'), torch.Size([2, 2]))"
      ],
      "metadata": {
        "id": "93OAmGiMl8ca"
      }
    },
    {
      "cell_type": "code",
      "source": [
        "torch.manual_seed(1234)\n",
        "\n",
        "if torch.cuda.is_available():\n",
        "    device = \"cuda\"\n",
        "else:\n",
        "    device = \"cpu\"\n",
        "\n",
        "tensor_gpu_a = torch.rand(2, 3).to(device)\n",
        "tensor_gpu_b = torch.rand(2, 3).to(device)\n",
        "\n",
        "print(\"Device:\", device)\n",
        "print(tensor_gpu_a)\n",
        "print(tensor_gpu_b)\n"
      ],
      "metadata": {
        "colab": {
          "base_uri": "https://localhost:8080/"
        },
        "id": "F8CoUpXPk-sr",
        "outputId": "25357eb8-8b31-4cbe-b182-5fe117a23e4c"
      },
      "execution_count": 7,
      "outputs": [
        {
          "output_type": "stream",
          "name": "stdout",
          "text": [
            "Device: cpu\n",
            "tensor([[0.0290, 0.4019, 0.2598],\n",
            "        [0.3666, 0.0583, 0.7006]])\n",
            "tensor([[0.0518, 0.4681, 0.6738],\n",
            "        [0.3315, 0.7837, 0.5631]])\n"
          ]
        }
      ]
    },
    {
      "cell_type": "code",
      "source": [
        "output_7 = torch.matmul(tensor_gpu_a, tensor_gpu_b.T)\n",
        "print(output_7, output_7.shape)\n"
      ],
      "metadata": {
        "colab": {
          "base_uri": "https://localhost:8080/"
        },
        "id": "JTdn5viPlBO6",
        "outputId": "072b1dac-1bdc-41b4-849d-416047db9d27"
      },
      "execution_count": 8,
      "outputs": [
        {
          "output_type": "stream",
          "name": "stdout",
          "text": [
            "tensor([[0.3647, 0.4709],\n",
            "        [0.5184, 0.5617]]) torch.Size([2, 2])\n"
          ]
        }
      ]
    },
    {
      "cell_type": "markdown",
      "source": [
        "8. Find the maximum and minimum values of the output of 7."
      ],
      "metadata": {
        "id": "5WlSCmlqmKUD"
      }
    },
    {
      "cell_type": "code",
      "source": [
        "print(\"Max value:\", output_7.max())\n",
        "print(\"Min value:\", output_7.min())\n"
      ],
      "metadata": {
        "colab": {
          "base_uri": "https://localhost:8080/"
        },
        "id": "0W7v1QHUlDo6",
        "outputId": "c87ae335-3b65-442f-f005-87093bb33523"
      },
      "execution_count": 9,
      "outputs": [
        {
          "output_type": "stream",
          "name": "stdout",
          "text": [
            "Max value: tensor(0.5617)\n",
            "Min value: tensor(0.3647)\n"
          ]
        }
      ]
    },
    {
      "cell_type": "markdown",
      "source": [
        "9. Find the maximum and minimum index values of the output of 7."
      ],
      "metadata": {
        "id": "WGAeUkR0mNuT"
      }
    },
    {
      "cell_type": "code",
      "source": [
        "max_pos = torch.nonzero(output_7 == output_7.max(), as_tuple=False)\n",
        "min_pos = torch.nonzero(output_7 == output_7.min(), as_tuple=False)\n",
        "\n",
        "print(\"Position of max value (row, col):\", max_pos[0].tolist())\n",
        "print(\"Position of min value (row, col):\", min_pos[0].tolist())\n"
      ],
      "metadata": {
        "colab": {
          "base_uri": "https://localhost:8080/"
        },
        "id": "PmUHgeDOmayM",
        "outputId": "3e1041be-6cb5-4da1-eb92-e4d54728aa57"
      },
      "execution_count": 11,
      "outputs": [
        {
          "output_type": "stream",
          "name": "stdout",
          "text": [
            "Position of max value (row, col): [1, 1]\n",
            "Position of min value (row, col): [0, 0]\n"
          ]
        }
      ]
    },
    {
      "cell_type": "markdown",
      "source": [
        "10. Make a random tensor with shape (1, 1, 1, 10) and then create a new tensor with all the 1 dimensions removed to be left with a tensor of shape (10). Set the seed to 7 when you create it and print out the first tensor and it's shape as well as the second tensor and it's shape.\n",
        "The output should look like:\n",
        "\n",
        "tensor([[[[0.5349, 0.1988, 0.6592, 0.6569, 0.2328, 0.4251, 0.2071, 0.6297,\n",
        "           0.3653, 0.8513]]]]) torch.Size([1, 1, 1, 10])\n",
        "tensor([0.5349, 0.1988, 0.6592, 0.6569, 0.2328, 0.4251, 0.2071, 0.6297, 0.3653,\n",
        "        0.8513]) torch.Size([10])"
      ],
      "metadata": {
        "id": "NRAm4rsRmY4L"
      }
    },
    {
      "cell_type": "code",
      "source": [
        "torch.manual_seed(7)\n",
        "\n",
        "tensor_10 = torch.rand(1, 1, 1, 10)\n",
        "tensor_10_squeezed = tensor_10.squeeze()\n",
        "\n",
        "print(tensor_10, tensor_10.shape)\n",
        "print(tensor_10_squeezed, tensor_10_squeezed.shape)\n"
      ],
      "metadata": {
        "colab": {
          "base_uri": "https://localhost:8080/"
        },
        "id": "aiF6KDK9lGFy",
        "outputId": "a65b7677-e432-43ee-b97c-a5551056a17e"
      },
      "execution_count": 10,
      "outputs": [
        {
          "output_type": "stream",
          "name": "stdout",
          "text": [
            "tensor([[[[0.5349, 0.1988, 0.6592, 0.6569, 0.2328, 0.4251, 0.2071, 0.6297,\n",
            "           0.3653, 0.8513]]]]) torch.Size([1, 1, 1, 10])\n",
            "tensor([0.5349, 0.1988, 0.6592, 0.6569, 0.2328, 0.4251, 0.2071, 0.6297, 0.3653,\n",
            "        0.8513]) torch.Size([10])\n"
          ]
        }
      ]
    }
  ]
}