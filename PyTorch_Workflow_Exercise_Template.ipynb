{
  "nbformat": 4,
  "nbformat_minor": 0,
  "metadata": {
    "colab": {
      "provenance": [],
      "authorship_tag": "ABX9TyNSPTNJ65nYqrNgYvyV1KUf",
      "include_colab_link": true
    },
    "kernelspec": {
      "name": "python3",
      "display_name": "Python 3"
    },
    "language_info": {
      "name": "python"
    }
  },
  "cells": [
    {
      "cell_type": "markdown",
      "metadata": {
        "id": "view-in-github",
        "colab_type": "text"
      },
      "source": [
        "<a href=\"https://colab.research.google.com/github/utyabia/1-notebook/blob/main/PyTorch_Workflow_Exercise_Template.ipynb\" target=\"_parent\"><img src=\"https://colab.research.google.com/assets/colab-badge.svg\" alt=\"Open In Colab\"/></a>"
      ]
    },
    {
      "cell_type": "markdown",
      "source": [
        "1. Create a straight line dataset using the linear regression formula (weight * X + bias).\n",
        "Set weight=0.3 and bias=0.9 there should be at least 100 datapoints total.\n",
        "Split the data into 80% training, 20% testing.\n",
        "Plot the training and testing data so it becomes visual.\n",
        "Your output of the below cell should look something like:\n",
        "\n",
        "Number of X samples: 100\n",
        "Number of y samples: 100\n",
        "First 10 X & y samples:\n",
        "X: tensor([0.0000, 0.0100, 0.0200, 0.0300, 0.0400, 0.0500, 0.0600, 0.0700, 0.0800,\n",
        "        0.0900])\n",
        "y: tensor([0.9000, 0.9030, 0.9060, 0.9090, 0.9120, 0.9150, 0.9180, 0.9210, 0.9240,\n",
        "        0.9270])\n",
        "Of course the numbers in X and y may be different but ideally they're created using the linear regression formula."
      ],
      "metadata": {
        "id": "Wl7q90jko0Ai"
      }
    },
    {
      "cell_type": "code",
      "source": [
        "import torch\n",
        "from torch import nn\n",
        "import matplotlib.pyplot as plt\n",
        "\n",
        "# Setup device-agnostic code\n",
        "device = \"cuda\" if torch.cuda.is_available() else \"cpu\"\n"
      ],
      "metadata": {
        "id": "vdu1eMCAo2NP"
      },
      "execution_count": 1,
      "outputs": []
    },
    {
      "cell_type": "code",
      "source": [
        "# Create data parameters\n",
        "weight = 0.3\n",
        "bias = 0.9\n",
        "\n",
        "# Create 100 data points between 0 and 1\n",
        "X = torch.arange(0, 1, 0.01).unsqueeze(1)  # Shape: (100, 1)\n",
        "y = weight * X + bias  # Shape: (100, 1)\n",
        "\n",
        "print(f\"Number of X samples: {len(X)}\")\n",
        "print(f\"Number of y samples: {len(y)}\")\n",
        "print(f\"First 10 X & y samples:\\nX: {X[:10]}\\ny: {y[:10]}\")\n",
        "\n",
        "# Split into training and test sets\n",
        "train_split = int(0.8 * len(X))\n",
        "X_train, X_test = X[:train_split], X[train_split:]\n",
        "y_train, y_test = y[:train_split], y[train_split:]\n",
        "\n",
        "# Plot\n",
        "plt.figure(figsize=(10,6))\n",
        "plt.scatter(X_train, y_train, label=\"Train\")\n",
        "plt.scatter(X_test, y_test, label=\"Test\")\n",
        "plt.legend()\n",
        "plt.show()\n"
      ],
      "metadata": {
        "colab": {
          "base_uri": "https://localhost:8080/",
          "height": 921
        },
        "id": "ONdBxXuTpCJX",
        "outputId": "ec85cdbf-78cd-4ebc-a338-fd6f63e0eebd"
      },
      "execution_count": 2,
      "outputs": [
        {
          "output_type": "stream",
          "name": "stdout",
          "text": [
            "Number of X samples: 100\n",
            "Number of y samples: 100\n",
            "First 10 X & y samples:\n",
            "X: tensor([[0.0000],\n",
            "        [0.0100],\n",
            "        [0.0200],\n",
            "        [0.0300],\n",
            "        [0.0400],\n",
            "        [0.0500],\n",
            "        [0.0600],\n",
            "        [0.0700],\n",
            "        [0.0800],\n",
            "        [0.0900]])\n",
            "y: tensor([[0.9000],\n",
            "        [0.9030],\n",
            "        [0.9060],\n",
            "        [0.9090],\n",
            "        [0.9120],\n",
            "        [0.9150],\n",
            "        [0.9180],\n",
            "        [0.9210],\n",
            "        [0.9240],\n",
            "        [0.9270]])\n"
          ]
        },
        {
          "output_type": "display_data",
          "data": {
            "text/plain": [
              "<Figure size 1000x600 with 1 Axes>"
            ],
            "image/png": "[encoded data removed]"
          },
          "metadata": {}
        }
      ]
    },
    {
      "cell_type": "markdown",
      "source": [
        "2. Build a PyTorch model by subclassing nn.Module.\n",
        "Inside should be a randomly initialized nn.Parameter() with requires_grad=True, one for weights and one for bias.\n",
        "Implement the forward() method to compute the linear regression function you used to create the dataset in 1.\n",
        "Once you've constructed the model, make an instance of it and check its state_dict().\n",
        "Note: If you'd like to use nn.Linear() instead of nn.Parameter() you can."
      ],
      "metadata": {
        "id": "5Lv3VR--pGcm"
      }
    },
    {
      "cell_type": "code",
      "source": [
        "class LinearRegressionModel(nn.Module):\n",
        "    def __init__(self):\n",
        "        super().__init__()\n",
        "        self.weight = nn.Parameter(torch.randn(1, requires_grad=True, dtype=torch.float))\n",
        "        self.bias = nn.Parameter(torch.randn(1, requires_grad=True, dtype=torch.float))\n",
        "\n",
        "    def forward(self, x: torch.Tensor) -> torch.Tensor:\n",
        "        return self.weight * x + self.bias\n",
        "\n",
        "# Instantiate model\n",
        "model = LinearRegressionModel().to(device)\n",
        "print(model.state_dict())\n"
      ],
      "metadata": {
        "colab": {
          "base_uri": "https://localhost:8080/"
        },
        "id": "vyTVQn2DpJSd",
        "outputId": "6e09d0c9-9103-412d-ccf1-3056e1027c0a"
      },
      "execution_count": 3,
      "outputs": [
        {
          "output_type": "stream",
          "name": "stdout",
          "text": [
            "OrderedDict([('weight', tensor([1.9166])), ('bias', tensor([1.9893]))])\n"
          ]
        }
      ]
    },
    {
      "cell_type": "markdown",
      "source": [
        "3. Create a loss function and optimizer using nn.L1Loss() and torch.optim.SGD(params, lr) respectively.\n",
        "Set the learning rate of the optimizer to be 0.01 and the parameters to optimize should be the model parameters from the model you created in 2.\n",
        "Write a training loop to perform the appropriate training steps for 300 epochs.\n",
        "The training loop should test the model on the test dataset every 20 epochs."
      ],
      "metadata": {
        "id": "z7GpHEp6pQTO"
      }
    },
    {
      "cell_type": "code",
      "source": [
        "# Loss and optimizer\n",
        "loss_fn = nn.L1Loss()\n",
        "optimizer = torch.optim.SGD(params=model.parameters(), lr=0.01)\n",
        "\n",
        "# Training loop\n",
        "epochs = 300\n",
        "X_train, y_train = X_train.to(device), y_train.to(device)\n",
        "X_test, y_test = X_test.to(device), y_test.to(device)\n",
        "\n",
        "for epoch in range(epochs):\n",
        "    model.train()\n",
        "    y_pred = model(X_train)\n",
        "    loss = loss_fn(y_pred, y_train)\n",
        "\n",
        "    optimizer.zero_grad()\n",
        "    loss.backward()\n",
        "    optimizer.step()\n",
        "\n",
        "    if epoch % 20 == 0:\n",
        "        model.eval()\n",
        "        with torch.inference_mode():\n",
        "            test_pred = model(X_test)\n",
        "            test_loss = loss_fn(test_pred, y_test)\n",
        "        print(f\"Epoch: {epoch} | Train loss: {loss:.4f} | Test loss: {test_loss:.4f}\")\n"
      ],
      "metadata": {
        "colab": {
          "base_uri": "https://localhost:8080/"
        },
        "id": "4zGbv4r1pQ9m",
        "outputId": "02171f9c-76f5-4bac-9d4a-fc88f670d379"
      },
      "execution_count": 4,
      "outputs": [
        {
          "output_type": "stream",
          "name": "stdout",
          "text": [
            "Epoch: 0 | Train loss: 1.7279 | Test loss: 2.5226\n",
            "Epoch: 20 | Train loss: 1.4967 | Test loss: 2.2519\n",
            "Epoch: 40 | Train loss: 1.2655 | Test loss: 1.9812\n",
            "Epoch: 60 | Train loss: 1.0343 | Test loss: 1.7105\n",
            "Epoch: 80 | Train loss: 0.8031 | Test loss: 1.4398\n",
            "Epoch: 100 | Train loss: 0.5719 | Test loss: 1.1691\n",
            "Epoch: 120 | Train loss: 0.3651 | Test loss: 0.9135\n",
            "Epoch: 140 | Train loss: 0.2608 | Test loss: 0.7273\n",
            "Epoch: 160 | Train loss: 0.2145 | Test loss: 0.6013\n",
            "Epoch: 180 | Train loss: 0.1933 | Test loss: 0.5183\n",
            "Epoch: 200 | Train loss: 0.1817 | Test loss: 0.4638\n",
            "Epoch: 220 | Train loss: 0.1734 | Test loss: 0.4266\n",
            "Epoch: 240 | Train loss: 0.1662 | Test loss: 0.3997\n",
            "Epoch: 260 | Train loss: 0.1592 | Test loss: 0.3775\n",
            "Epoch: 280 | Train loss: 0.1523 | Test loss: 0.3594\n"
          ]
        }
      ]
    },
    {
      "cell_type": "markdown",
      "source": [
        "4. Make predictions with the trained model on the test data.\n",
        "Visualize these predictions against the original training and testing data (note: you may need to make sure the predictions are not on the GPU if you want to use non-CUDA-enabled libraries such as matplotlib to plot)."
      ],
      "metadata": {
        "id": "WOvLowxMpT1-"
      }
    },
    {
      "cell_type": "code",
      "source": [
        "model.eval()\n",
        "with torch.inference_mode():\n",
        "    preds = model(X_test)\n",
        "\n",
        "# Move data to CPU for plotting\n",
        "X_train, y_train = X_train.cpu(), y_train.cpu()\n",
        "X_test, y_test = X_test.cpu(), y_test.cpu()\n",
        "preds = preds.cpu()\n",
        "\n",
        "# Plot\n",
        "plt.figure(figsize=(10,6))\n",
        "plt.scatter(X_train, y_train, label=\"Train\")\n",
        "plt.scatter(X_test, y_test, label=\"Test\")\n",
        "plt.scatter(X_test, preds, label=\"Predictions\")\n",
        "plt.legend()\n",
        "plt.show()\n"
      ],
      "metadata": {
        "colab": {
          "base_uri": "https://localhost:8080/",
          "height": 522
        },
        "id": "9QS8B5hKpXVX",
        "outputId": "d0ae2056-62db-4a8e-9d8f-1e53bdb30328"
      },
      "execution_count": 5,
      "outputs": [
        {
          "output_type": "display_data",
          "data": {
            "text/plain": [
              "<Figure size 1000x600 with 1 Axes>"
            ],
            "image/png": "[encoded data removed]"
          },
          "metadata": {}
        }
      ]
    },
    {
      "cell_type": "markdown",
      "source": [
        "5. Save your trained model's state_dict() to file.\n",
        "Create a new instance of your model class you made in 2. and load in the state_dict() you just saved to it.\n",
        "Perform predictions on your test data with the loaded model and confirm they match the original model predictions from 4."
      ],
      "metadata": {
        "id": "TitiozUppf3H"
      }
    },
    {
      "cell_type": "code",
      "source": [
        "from pathlib import Path\n",
        "\n",
        "# Save\n",
        "MODEL_PATH = Path(\"models\")\n",
        "MODEL_PATH.mkdir(parents=True, exist_ok=True)\n",
        "MODEL_NAME = \"linear_regression_model.pth\"\n",
        "MODEL_SAVE_PATH = MODEL_PATH / MODEL_NAME\n",
        "torch.save(obj=model.state_dict(), f=MODEL_SAVE_PATH)\n",
        "\n",
        "# Load into new instance\n",
        "loaded_model = LinearRegressionModel()\n",
        "loaded_model.load_state_dict(torch.load(MODEL_SAVE_PATH))\n",
        "loaded_model.to(device)\n",
        "\n",
        "# Verify predictions\n",
        "loaded_model.eval()\n",
        "with torch.inference_mode():\n",
        "    loaded_preds = loaded_model(X_test)\n",
        "\n",
        "print(torch.allclose(preds, loaded_preds.cpu(), atol=1e-2))  # Should be True\n"
      ],
      "metadata": {
        "colab": {
          "base_uri": "https://localhost:8080/"
        },
        "id": "8zXfQmwnpglz",
        "outputId": "8cdfac59-6783-40d0-eaed-e05596cbef86"
      },
      "execution_count": 6,
      "outputs": [
        {
          "output_type": "stream",
          "name": "stdout",
          "text": [
            "True\n"
          ]
        }
      ]
    }
  ]
}